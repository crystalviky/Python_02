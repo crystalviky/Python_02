{
 "cells": [
  {
   "cell_type": "markdown",
   "metadata": {},
   "source": [
    "## Задание 1\n",
    "\n",
    "Дан список с визитами по городам и странам. Напишите код, который возвращает отфильтрованный список geo_logs, содержащий только визиты из России. Считайте, что список geo_logs легко помещается в оперативной памяти."
   ]
  },
  {
   "cell_type": "code",
   "execution_count": 2,
   "metadata": {},
   "outputs": [],
   "source": [
    "geo_logs = [\n",
    "\t{'visit1': ['Москва', 'Россия']},\n",
    "\t{'visit2': ['Дели', 'Индия']},\n",
    "\t{'visit3': ['Владимир', 'Россия']},\n",
    "\t{'visit4': ['Лиссабон', 'Португалия']},\n",
    "\t{'visit5': ['Париж', 'Франция']},\n",
    "\t{'visit6': ['Лиссабон', 'Португалия']},\n",
    "\t{'visit7': ['Тула', 'Россия']},\n",
    "\t{'visit8': ['Тула', 'Россия']},\n",
    "\t{'visit9': ['Курск', 'Россия']},\n",
    "\t{'visit10': ['Архангельск', 'Россия']},\n",
    "]"
   ]
  },
  {
   "cell_type": "code",
   "execution_count": 86,
   "metadata": {},
   "outputs": [
    {
     "name": "stdout",
     "output_type": "stream",
     "text": [
      "{'visit1': ['Москва', 'Россия']}\n",
      "{'visit3': ['Владимир', 'Россия']}\n",
      "{'visit7': ['Тула', 'Россия']}\n",
      "{'visit8': ['Тула', 'Россия']}\n",
      "{'visit9': ['Курск', 'Россия']}\n",
      "{'visit10': ['Архангельск', 'Россия']}\n"
     ]
    }
   ],
   "source": [
    "for value in geo_logs:\n",
    "    if list(value.values())[0][1] == 'Россия':\n",
    "        print(value)"
   ]
  },
  {
   "cell_type": "markdown",
   "metadata": {},
   "source": [
    "## Задание 2\n",
    "Выведите на экран все уникальные гео-ID из значений словаря ids. Т. е. список вида [213, 15, 54, 119, 98, 35]\n",
    "ids = {'user1': [213, 213, 213, 15, 213], 'user2': [54, 54, 119, 119, 119], 'user3': [213, 98, 98, 35]}"
   ]
  },
  {
   "cell_type": "code",
   "execution_count": 16,
   "metadata": {},
   "outputs": [],
   "source": [
    "ids = {'user1': [213, 213, 213, 15, 213], 'user2': [54, 54, 119, 119, 119], 'user3': [213, 98, 98, 35]}"
   ]
  },
  {
   "cell_type": "code",
   "execution_count": 52,
   "metadata": {},
   "outputs": [
    {
     "name": "stdout",
     "output_type": "stream",
     "text": [
      "[98, 35, 213, 54, 119, 15]\n"
     ]
    }
   ],
   "source": [
    "set_ = set()\n",
    "for value in ids.values():\n",
    "    dict_s = set(value)\n",
    "    set_.update(dict_s)\n",
    "print(list(set_))"
   ]
  },
  {
   "cell_type": "markdown",
   "metadata": {},
   "source": [
    "## Задание 3\n",
    "\n",
    "Список поисковых запросов. Получить распределение количества слов в них. Т. е. поисковых запросов из одного слова 5%, из двух - 7%, из трех - 3% итд."
   ]
  },
  {
   "cell_type": "code",
   "execution_count": 53,
   "metadata": {},
   "outputs": [],
   "source": [
    "queries = [\n",
    "\t'смотреть сериалы онлайн',\n",
    "\t'новости спорта',\n",
    "\t'афиша кино',\n",
    "\t'курс доллара',\n",
    "\t'сериалы этим летом',\n",
    "\t'курс по питону',\n",
    "\t'сериалы про спорт',\n",
    "]"
   ]
  },
  {
   "cell_type": "code",
   "execution_count": 67,
   "metadata": {},
   "outputs": [
    {
     "name": "stdout",
     "output_type": "stream",
     "text": [
      "Поисковых запросов из 3 слов 57.14%\n",
      "Поисковых запросов из 2 слов 42.86%\n"
     ]
    }
   ],
   "source": [
    "dict_queries = {}\n",
    "for i in range(len(queries)):\n",
    "    len_ = len(queries[i].split(' '))\n",
    "    if len_ in dict_queries: # len_ - число слов в элементе спикса\n",
    "        value = dict_queries[len_]\n",
    "        dict_queries[len_] = value + 1 # значение ключа - число предложенй с данный количеством слов \n",
    "    else:\n",
    "        dict_queries[len_] = 1\n",
    "num_sent = sum(dict_queries.values())\n",
    "for key,value in dict_queries.items():\n",
    "    print('Поисковых запросов из {} слов {:.2%}'.format(key, value/num_sent))"
   ]
  },
  {
   "cell_type": "markdown",
   "metadata": {},
   "source": [
    "## Задание 4\n",
    "\n",
    "Дана статистика рекламных каналов по объемам продаж. Напишите скрипт, который возвращает название канала с максимальным объемом.\n",
    "Т. е. в данном примере скрипт должен возвращать 'yandex'."
   ]
  },
  {
   "cell_type": "code",
   "execution_count": 87,
   "metadata": {},
   "outputs": [],
   "source": [
    "stats = {'facebook': 55, 'yandex': 120, 'vk': 115, 'google': 99, 'email': 42, 'ok': 98}"
   ]
  },
  {
   "cell_type": "code",
   "execution_count": 96,
   "metadata": {},
   "outputs": [
    {
     "name": "stdout",
     "output_type": "stream",
     "text": [
      "yandex\n"
     ]
    }
   ],
   "source": [
    "a = []\n",
    "for value in stats.values():\n",
    "    a.append(value)\n",
    "max_v = max(a)\n",
    "for key, item in stats.items():\n",
    "    if item == max_v:\n",
    "        print(key)"
   ]
  },
  {
   "cell_type": "markdown",
   "metadata": {},
   "source": [
    "## Задание 5\n",
    "\n",
    "Дан поток логов по количеству просмотренных страниц для каждого пользователя. Список отсортирован по ID пользователя. Вам необходимо написать алгоритм, который считает среднее значение просмотров на пользователя. Т. е. надо посчитать отношение суммы всех просмотров к количеству уникальных пользователей. Учтите, что весь список stream не помещается в оперативную память, т. е. его нужно обрабатывать поэлементно в цикле.\n"
   ]
  },
  {
   "cell_type": "code",
   "execution_count": 98,
   "metadata": {},
   "outputs": [],
   "source": [
    "stream = [\n",
    "\t'2018-01-01,user1,3',\n",
    "\t'2018-01-07,user1,4',\n",
    "\t'2018-03-29,user1,1',\n",
    "\t'2018-04-04,user1,13',\n",
    "\t'2018-01-05,user2,7',\n",
    "\t'2018-06-14,user3,4',\n",
    "\t'2018-07-02,user3,10',\n",
    "\t'2018-03-21,user4,19',\n",
    "\t'2018-03-22,user4,4',\n",
    "\t'2018-04-22,user4,8',\n",
    "\t'2018-05-03,user4,9',\n",
    "\t'2018-05-11,user4,11',\n",
    "]"
   ]
  },
  {
   "cell_type": "code",
   "execution_count": 101,
   "metadata": {},
   "outputs": [
    {
     "name": "stdout",
     "output_type": "stream",
     "text": [
      "users_number =  4\n",
      "sum_views =  93\n",
      "average_views =  23.25\n"
     ]
    }
   ],
   "source": [
    "l = len(stream) - 1\n",
    "i = 0\n",
    "sum_views = 0\n",
    "users_number = 1\n",
    "for i in range(l):\n",
    "    a,b,c = stream[i].split(',') \n",
    "    a1, b1, c1 = stream[i+1].split(',')\n",
    "    \n",
    "    if b != b1: # считаем число уникальных пользователей\n",
    "        users_number += 1\n",
    "    \n",
    "    sum_views += int(c) # суммируем просмтотры \n",
    "    \n",
    "    if (i+1) == l:\n",
    "        sum_views += int(c1) # число просмторов последнего пользователя при последнем логировнаии\n",
    "print('users_number = ', users_number)\n",
    "print('sum_views = ', sum_views)\n",
    "print('average_views = ', (sum_views/users_number))"
   ]
  },
  {
   "cell_type": "markdown",
   "metadata": {},
   "source": [
    "## Задание 6\n",
    "Дана статистика рекламных кампаний по дням. Напишите алгоритм, который по паре дата-кампания ищет значение численного столбца. Т. е. для даты '2018-01-01' и 'google' нужно получить число 25. Считайте, что все комбинации дата-кампания уникальны, а список stats легко помещается в оперативной памяти.\n",
    "\n"
   ]
  },
  {
   "cell_type": "code",
   "execution_count": 102,
   "metadata": {},
   "outputs": [],
   "source": [
    "stats = [\n",
    "\t['2018-01-01', 'google', 25],\n",
    "\t['2018-01-01', 'yandex', 65],\n",
    "\t['2018-01-01', 'market', 89],\n",
    "\t['2018-01-02', 'google', 574],\n",
    "\t['2018-01-02', 'yandex', 249],\n",
    "\t['2018-01-02', 'market', 994],\n",
    "\t['2018-01-03', 'google', 1843],\n",
    "\t['2018-01-03', 'yandex', 1327],\n",
    "\t['2018-01-03', 'market', 1764],\n",
    "]"
   ]
  },
  {
   "cell_type": "code",
   "execution_count": 112,
   "metadata": {},
   "outputs": [
    {
     "name": "stdout",
     "output_type": "stream",
     "text": [
      "Введите дату: \n",
      "2018-01-03\n",
      "Введите компанию: \n",
      "yandex\n"
     ]
    },
    {
     "data": {
      "text/plain": [
       "[1327]"
      ]
     },
     "execution_count": 112,
     "metadata": {},
     "output_type": "execute_result"
    }
   ],
   "source": [
    "print('Введите дату: ')\n",
    "date_ = input()\n",
    "print('Введите компанию: ')\n",
    "company = input()\n",
    "[x[2] for x in stats if x[0] == date_ and x[1] == company ]"
   ]
  },
  {
   "cell_type": "markdown",
   "metadata": {},
   "source": [
    "## Бонусный вариант (делать его не обязательно)\n",
    "Рассмотрите обобщенный вариант этой задачи: имеется таблица из n столбцов. Первые n-1 столбцов - признаки (комбинации этих признаков в таблице уникальные). Последний столбец - значение. Вам необходимо по набору n-1 признаков найти соответствующую строчку в таблице и вернуть значение из правого столбца. Учтите, что исходная таблица может быть любого размера.\n",
    "\n",
    "Одно из применений задачи - объединение двух таблиц по n столбцов, одна из которых помещается в оперативной памяти. Например, 7 столбцов по 1 и 10 миллионов строк."
   ]
  },
  {
   "cell_type": "code",
   "execution_count": 146,
   "metadata": {},
   "outputs": [
    {
     "name": "stdout",
     "output_type": "stream",
     "text": [
      "n столбец =  994\n"
     ]
    }
   ],
   "source": [
    "key = '2018-01-02,market' # в обобщенном варианте вводим все признаки\n",
    "\n",
    "len_stats = len(stats)\n",
    "for i in range(len_stats):\n",
    "    n_1 = ','.join([str(x) for x in stats[i]][:-1]) # объединяем в строке столбцы n-1\n",
    "    if n_1 == key:\n",
    "        print('n столбец = ', stats[i][-1])"
   ]
  }
 ],
 "metadata": {
  "kernelspec": {
   "display_name": "Python 3",
   "language": "python",
   "name": "python3"
  },
  "language_info": {
   "codemirror_mode": {
    "name": "ipython",
    "version": 3
   },
   "file_extension": ".py",
   "mimetype": "text/x-python",
   "name": "python",
   "nbconvert_exporter": "python",
   "pygments_lexer": "ipython3",
   "version": "3.7.1"
  }
 },
 "nbformat": 4,
 "nbformat_minor": 2
}
